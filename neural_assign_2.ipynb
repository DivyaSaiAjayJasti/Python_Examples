{
  "nbformat": 4,
  "nbformat_minor": 0,
  "metadata": {
    "colab": {
      "provenance": [],
      "authorship_tag": "ABX9TyNA+MaeSkzzv4NHWfH1M+tB",
      "include_colab_link": true
    },
    "kernelspec": {
      "name": "python3",
      "display_name": "Python 3"
    },
    "language_info": {
      "name": "python"
    }
  },
  "cells": [
    {
      "cell_type": "markdown",
      "metadata": {
        "id": "view-in-github",
        "colab_type": "text"
      },
      "source": [
        "<a href=\"https://colab.research.google.com/github/dsj12960/assign_2/blob/main/neural_assign_2.ipynb\" target=\"_parent\"><img src=\"https://colab.research.google.com/assets/colab-badge.svg\" alt=\"Open In Colab\"/></a>"
      ]
    },
    {
      "cell_type": "code",
      "execution_count": 3,
      "metadata": {
        "colab": {
          "base_uri": "https://localhost:8080/"
        },
        "id": "fxZ7YIpM30tZ",
        "outputId": "3efa906a-450f-40d2-b530-18b8c63bea8b"
      },
      "outputs": [
        {
          "output_type": "stream",
          "name": "stdout",
          "text": [
            "enter first name: divya\n",
            "enter last name: jasti\n",
            "Full name is :  divya jasti\n"
          ]
        }
      ],
      "source": [
        "First_name=input(\"enter first name: \") #taking first name from user\n",
        "last_name=input(\"enter last name: \") #taking last name from user\n",
        "Full_name=First_name + \" \" + last_name #adding first name and last name and storing it in full_name \n",
        "print(\"Full name is : \",Full_name)  #printing full name\n"
      ]
    },
    {
      "cell_type": "code",
      "source": [
        "input_string=input(\"enter string\")\n",
        "def string_alternative(input_string):  #defining a function named string alternative \n",
        "    output_String=(input_string[::2])   #getting alternate characters in the string and storing it into output string\n",
        "    return print(output_String)        #returning and printing output string\n",
        "string_alternative(input_string)  #calling function string_alternative"
      ],
      "metadata": {
        "colab": {
          "base_uri": "https://localhost:8080/"
        },
        "id": "zAQhZU5y44_n",
        "outputId": "3ed06df1-35ee-492c-d3fc-cc26530cf289"
      },
      "execution_count": 7,
      "outputs": [
        {
          "output_type": "stream",
          "name": "stdout",
          "text": [
            "enter stringthis is an assignment\n",
            "ti sa sinet\n"
          ]
        }
      ]
    },
    {
      "cell_type": "code",
      "source": [
        "file=open(\"temp.txt\",\"w\")  #opening file with write mode\n",
        "file.write(\"Python Course\\n\")  #writing a line in the file\n",
        "file.write(\" Deep Learning Course\")\n",
        "file.close() #closing the file \n",
        "file=open(\"temp.txt\",\"r\") #opening file with read mode\n",
        "print(file.read()) #reading the file\n",
        "file.close() \n",
        "\n",
        "from collections import Counter  #importing Counter from collections library\n",
        "def count_words(filename):   #defining count_words function\n",
        "    with open(filename) as file: \n",
        "        return Counter(file.read().split())  #reading the temp file and split every word in file and count words\n",
        "with open(\"output.txt\",\"a\") as file:  #opening new outputfile and sending output of returned function to output file\n",
        "    print(\"Number of words in the file:\\n\", count_words(\"temp.txt\"))     #printing output"
      ],
      "metadata": {
        "colab": {
          "base_uri": "https://localhost:8080/"
        },
        "id": "8wcfUsff62_L",
        "outputId": "8c07e7c3-ec65-4405-ba5f-97f20c1faaa4"
      },
      "execution_count": 16,
      "outputs": [
        {
          "output_type": "stream",
          "name": "stdout",
          "text": [
            "Python Course\n",
            " Deep Learning Course\n",
            "Number of words in the file:\n",
            " Counter({'Course': 2, 'Python': 1, 'Deep': 1, 'Learning': 1})\n"
          ]
        }
      ]
    },
    {
      "cell_type": "code",
      "source": [
        "height_in_inches=[96,106, 156, 148]   #heights of customers in inches\n",
        "print(\"heights of customers in inches is\",height_in_inches)  #printing them in inches\n",
        "height_in_centimeters=[each_value_in_list*2.54 for each_value_in_list in height_in_inches]  #converting inches to centimetres \n",
        "print(\"height of customers in centimetres is \",height_in_centimeters)  #printing new list in centimetres"
      ],
      "metadata": {
        "colab": {
          "base_uri": "https://localhost:8080/"
        },
        "id": "AtRTjKZKKswj",
        "outputId": "c0d4a5e7-e213-46a1-9384-6428b727bb65"
      },
      "execution_count": 30,
      "outputs": [
        {
          "output_type": "stream",
          "name": "stdout",
          "text": [
            "heights of customers in inches is [96, 106, 156, 148]\n",
            "height of customers in centimetres is  [243.84, 269.24, 396.24, 375.92]\n"
          ]
        }
      ]
    },
    {
      "cell_type": "code",
      "source": [
        "height_in_inches=[96,106, 156, 148]  #list with heights of customers in inches\n",
        "height_in_centimeters=[] #defining an empty array\n",
        "print(\"heights of customers in inches is\",height_in_inches) #printing them in inches\n",
        "for i in height_in_inches:\n",
        "  new_height=i*2.54 #muliplying each value with 2.54 to convert height into cms and storing the value into new_height\n",
        "  height_in_centimeters.append(new_height) #appending value in new_height to the array\n",
        "print(\"height of customers in centimetres is \",height_in_centimeters)"
      ],
      "metadata": {
        "colab": {
          "base_uri": "https://localhost:8080/"
        },
        "id": "w35kW6v1IFO1",
        "outputId": "9df6b6f9-9c01-47e4-c65c-983432da7278"
      },
      "execution_count": 28,
      "outputs": [
        {
          "output_type": "stream",
          "name": "stdout",
          "text": [
            "heights of customers in inches is [96, 106, 156, 148]\n",
            "height of customers in centimetres is  [243.84, 269.24, 396.24, 375.92]\n"
          ]
        }
      ]
    }
  ]
}